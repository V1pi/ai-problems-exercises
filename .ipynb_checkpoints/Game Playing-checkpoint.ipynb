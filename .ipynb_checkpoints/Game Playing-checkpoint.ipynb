{
 "cells": [
  {
   "cell_type": "markdown",
   "metadata": {},
   "source": [
    "# Game Playing\n",
    "----------\n",
    "\n",
    "### Class GameState\n",
    "\n",
    "Properties:\n",
    "\n",
    "* _board: list(list)\n",
    "        Represent the board with a 2d array _board[x][y]\n",
    "        where open spaces are 0 and closed spaces are 1\n",
    "        and a coordinate system where [0][0] is the top-\n",
    "        left corner, and x increases to the right while\n",
    "        y increases going down (this is an arbitrary\n",
    "        convention choice -- there are many other options\n",
    "        that are just as good)\n",
    "    \n",
    "* _parity: bool\n",
    "        Keep track of active player initiative (which\n",
    "        player has control to move) where 0 indicates that\n",
    "        player one has initiative and 1 indicates player two\n",
    "    \n",
    "* _playerLocations: list(tuple)\n",
    "        Keep track of the current location of each player\n",
    "        on the board where position is encoded by the\n",
    "        board indices of their last move, e.g., [(0, 0), (1, 0)]\n",
    "        means player one is at (0, 0) and player two is at (1, 0)"
   ]
  },
  {
   "cell_type": "code",
   "execution_count": 2,
   "metadata": {},
   "outputs": [],
   "source": [
    "class GameState(object):\n",
    "    def __init__(self, xlim = 3, ylim=3):\n",
    "        self._board = [[0] * ylim for _ in range(xlim)]\n",
    "        self._parity = 0\n",
    "        self._board[-1][-1] = 1\n",
    "        self._playersLocation = [None, None]\n",
    "    \n",
    "    @property\n",
    "    def board(self):\n",
    "        return self._board\n",
    "    \n",
    "    @property\n",
    "    def parity(self):\n",
    "        return self._parity\n",
    "    \n",
    "    @property\n",
    "    def playersLocation(self):\n",
    "        return self._playersLocation"
   ]
  },
  {
   "cell_type": "code",
   "execution_count": null,
   "metadata": {},
   "outputs": [],
   "source": []
  }
 ],
 "metadata": {
  "kernelspec": {
   "display_name": "Python 3",
   "language": "python",
   "name": "python3"
  },
  "language_info": {
   "codemirror_mode": {
    "name": "ipython",
    "version": 3
   },
   "file_extension": ".py",
   "mimetype": "text/x-python",
   "name": "python",
   "nbconvert_exporter": "python",
   "pygments_lexer": "ipython3",
   "version": "3.7.5rc1"
  }
 },
 "nbformat": 4,
 "nbformat_minor": 2
}
