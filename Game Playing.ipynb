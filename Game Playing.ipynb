{
 "cells": [
  {
   "cell_type": "markdown",
   "metadata": {},
   "source": [
    "# Game Playing\n",
    "----------\n",
    "\n",
    "### Class GameState\n",
    "\n",
    "#### Methods:\n",
    "* getLegalMoves(self):\n",
    "        Return a list of all legal moves available to the\n",
    "        active player.  Each player should get a list of all\n",
    "        empty spaces on the board on their first move, and\n",
    "        otherwise they should get a list of all open spaces\n",
    "        in a straight line along any row, column or diagonal\n",
    "        from their current position. (Players CANNOT move\n",
    "        through obstacles or blocked squares.) Moves should\n",
    "        be a pair of integers in (column, row) order specifying\n",
    "        the zero-indexed coordinates on the board.\n",
    "* forecastMove(self, move):\n",
    "        Return a new board object with the specified move\n",
    "        applied to the current game state.\n",
    "        Parameters\n",
    "        ----------\n",
    "        move: tuple\n",
    "            The target position for the active player's next move\n",
    "            (e.g., (0, 0) if the active player will move to the\n",
    "            top-left corner of the board)\n",
    "\n",
    "#### Properties:\n",
    "\n",
    "* _board: list(list)\n",
    "        Represent the board with a 2d array _board[x][y]\n",
    "        where open spaces are 0 and closed spaces are 1\n",
    "        and a coordinate system where [0][0] is the top-\n",
    "        left corner, and x increases to the right while\n",
    "        y increases going down (this is an arbitrary\n",
    "        convention choice -- there are many other options\n",
    "        that are just as good)\n",
    "    \n",
    "* _parity: bool\n",
    "        Keep track of active player initiative (which\n",
    "        player has control to move) where 0 indicates that\n",
    "        player one has initiative and 1 indicates player two\n",
    "    \n",
    "* _playerLocations: list(tuple)\n",
    "        Keep track of the current location of each player\n",
    "        on the board where position is encoded by the\n",
    "        board indices of their last move, e.g., [(0, 0), (1, 0)]\n",
    "        means player one is at (0, 0) and player two is at (1, 0)"
   ]
  },
  {
   "cell_type": "code",
   "execution_count": 67,
   "metadata": {},
   "outputs": [],
   "source": [
    "def module(number):\n",
    "    return -number if number < 0 else number\n",
    "\n",
    "class GameState(object):\n",
    "    def __init__(self, xlim = 5, ylim = 5):\n",
    "        self._board = [[0] * ylim for _ in range(xlim)]\n",
    "        self._xlim = xlim\n",
    "        self._ylim = ylim\n",
    "        self._parity = 0\n",
    "        self._board[-1][-1] = 1\n",
    "        self._board[1][3] = 1\n",
    "        self._board[2][2] = 1\n",
    "        self._board[2][3] = 1\n",
    "        self._playersLocation = [(1,3), None]\n",
    "    \n",
    "    def getLegalMoves(self):\n",
    "        possibleMoves = []\n",
    "        location = self.playersLocation[self.parity]\n",
    "        if location is None:\n",
    "            possibleMoves = [(x, y) for x in range(0, self.xlim) for y in range(0, self.ylim) if self.board[x][y] == 0]\n",
    "        else:\n",
    "            # Generate a tuple of all board positions\n",
    "            allMoves = [(x, y) for x in range(0, self.xlim) for y in range(0, self.ylim) if x != location[0] or y != location[1]]\n",
    "            # Calculate a distance of each cells is from player position\n",
    "            allDistances = [tuple(p1-p2 for p1,p2 in zip(move, location)) for move in allMoves]\n",
    "            for move, distance in zip(allMoves, allDistances):\n",
    "                distance_x, distance_y = distance\n",
    "                inc_or_dec_x = -1 if distance_x >= 0 else 1\n",
    "                inc_or_dec_y = -1 if distance_y >= 0 else 1\n",
    "                possibleMoves.append(move)\n",
    "                # Check is diagonal position\n",
    "                if module(distance_x)  == module(distance_y):\n",
    "                    # go throught each cell until arrive in position\n",
    "                    for x, y in zip(range(distance_x, 0, inc_or_dec_x), range(distance_y, 0, inc_or_dec_y)):\n",
    "                        temp = (x+location[0], y+location[1])\n",
    "                        # if hava obstacle so pop\n",
    "                        if self.board[temp[0]][temp[1]] != 0:\n",
    "                            possibleMoves.pop()\n",
    "                            break\n",
    "                # if the possible move is on column or line\n",
    "                elif distance_x  == 0 or distance_y == 0:\n",
    "                    # go throught until arrive in cell\n",
    "                    for x in range(distance_x, 0, inc_or_dec_x):\n",
    "                        temp = (x+location[0], location[1])\n",
    "                        if self.board[temp[0]][temp[1]] != 0:\n",
    "                            possibleMoves.pop()\n",
    "                            break\n",
    "                    for y in range(distance_y, 0, inc_or_dec_y):\n",
    "                        temp = (location[0], y+location[1])\n",
    "                        if self.board[temp[0]][temp[1]] != 0:\n",
    "                            possibleMoves.pop()\n",
    "                            break\n",
    "                else:\n",
    "                    # if is not in column or diagonal or in row remove\n",
    "                    possibleMoves.pop()\n",
    "                        \n",
    "        return possibleMoves\n",
    "    \n",
    "    def forecastMove(self, move):\n",
    "        pass\n",
    "    \n",
    "    @property\n",
    "    def board(self):\n",
    "        return self._board\n",
    "    \n",
    "    @property\n",
    "    def parity(self):\n",
    "        return self._parity\n",
    "    \n",
    "    @property\n",
    "    def playersLocation(self):\n",
    "        return self._playersLocation\n",
    "    \n",
    "    @property\n",
    "    def xlim(self):\n",
    "        return self._xlim\n",
    "    \n",
    "    @property\n",
    "    def ylim(self):\n",
    "        return self._ylim"
   ]
  },
  {
   "cell_type": "code",
   "execution_count": 68,
   "metadata": {},
   "outputs": [
    {
     "data": {
      "text/plain": [
       "[(0, 2), (0, 3), (0, 4), (1, 0), (1, 1), (1, 2), (1, 4), (2, 4)]"
      ]
     },
     "execution_count": 68,
     "metadata": {},
     "output_type": "execute_result"
    }
   ],
   "source": [
    "gameState = GameState()\n",
    "gameState.getLegalMoves()"
   ]
  },
  {
   "cell_type": "code",
   "execution_count": 19,
   "metadata": {},
   "outputs": [
    {
     "data": {
      "text/plain": [
       "-1"
      ]
     },
     "execution_count": 19,
     "metadata": {},
     "output_type": "execute_result"
    }
   ],
   "source": [
    "1 if -10 >= 0 else -1"
   ]
  },
  {
   "cell_type": "code",
   "execution_count": 18,
   "metadata": {},
   "outputs": [
    {
     "data": {
      "text/plain": [
       "False"
      ]
     },
     "execution_count": 18,
     "metadata": {},
     "output_type": "execute_result"
    }
   ],
   "source": [
    "(0,0) == (0,1)"
   ]
  },
  {
   "cell_type": "code",
   "execution_count": 8,
   "metadata": {},
   "outputs": [
    {
     "name": "stdout",
     "output_type": "stream",
     "text": [
      "2\n",
      "1\n"
     ]
    }
   ],
   "source": [
    "for i in range(2,0,-1):\n",
    "    print(i)"
   ]
  },
  {
   "cell_type": "code",
   "execution_count": null,
   "metadata": {},
   "outputs": [],
   "source": []
  }
 ],
 "metadata": {
  "kernelspec": {
   "display_name": "Python 3",
   "language": "python",
   "name": "python3"
  },
  "language_info": {
   "codemirror_mode": {
    "name": "ipython",
    "version": 3
   },
   "file_extension": ".py",
   "mimetype": "text/x-python",
   "name": "python",
   "nbconvert_exporter": "python",
   "pygments_lexer": "ipython3",
   "version": "3.7.5rc1"
  }
 },
 "nbformat": 4,
 "nbformat_minor": 2
}
